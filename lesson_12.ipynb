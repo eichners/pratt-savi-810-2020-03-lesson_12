{
 "cells": [
  {
   "cell_type": "markdown",
   "metadata": {},
   "source": [
    "# Lesson 12\n",
    "\n",
    "# APIs (Application Programming Interface), Wrap-up Additional Mapping Functionality with Matplotlib, \n",
    "\n",
    "\n",
    "\n",
    "![http://www.pratt.edu/tiny_mce/plugins/imagemanager/files/Light_brown_blue22.jpg](http://www.pratt.edu/tiny_mce/plugins/imagemanager/files/Light_brown_blue22.jpg)\n",
    "\n",
    "# Class Links\n",
    "\n",
    "* [Syllabus](https://docs.google.com/document/d/1KHxT-NkaoXXdSNkK8JlzL2FFgmNoxPQ25fwgtXPnbrY)\n",
    "\n",
    "* [Class Google Spreadsheet](https://docs.google.com/spreadsheets/d/1t481r7HjQBbjNtFOABSOlcckzQhdrh12TCzpSYKurI0/edit?usp=sharing)\n",
    "\n",
    "* [Google Meetup Video Hangout](https://meet.google.com/aym-kxae-bzr)\n",
    "\n",
    "  * For United States Dial +1 \n",
    "    * (669) 220-6376\n",
    "  * Enter this PIN when prompted: \n",
    "    * 891 126 706 #\n",
    "  \n",
    "* [GitHub Organization](https://github.com/pratt-savi-810)\n",
    "\n",
    "* [Slack Organization](https://app.slack.com/client/T01068MA75X/C010J3Q2QET)\n",
    "\n",
    "* [Resources](https://github.com/pratt-savi-810/resources)"
   ]
  },
  {
   "cell_type": "markdown",
   "metadata": {
    "toc": true
   },
   "source": [
    "<h1>Table of Contents<span class=\"tocSkip\"></span></h1>\n",
    "<div class=\"toc\"><ul class=\"toc-item\"><li><span><a href=\"#Lesson-12\" data-toc-modified-id=\"Lesson-12-1\">Lesson 12</a></span></li><li><span><a href=\"#APIs-(Application-Programming-Interface),-Wrap-up-Additional-Mapping-Functionality-with-Matplotlib,\" data-toc-modified-id=\"APIs-(Application-Programming-Interface),-Wrap-up-Additional-Mapping-Functionality-with-Matplotlib,-2\">APIs (Application Programming Interface), Wrap-up Additional Mapping Functionality with Matplotlib,</a></span></li><li><span><a href=\"#Class-Links\" data-toc-modified-id=\"Class-Links-3\">Class Links</a></span></li><li><span><a href=\"#Learning-Objectives\" data-toc-modified-id=\"Learning-Objectives-4\">Learning Objectives</a></span><ul class=\"toc-item\"><li><ul class=\"toc-item\"><li><span><a href=\"#Fork-and-Clone-this-Lesson-Repo\" data-toc-modified-id=\"Fork-and-Clone-this-Lesson-Repo-4.0.1\">Fork and Clone this Lesson Repo</a></span></li></ul></li></ul></li><li><span><a href=\"#Import-Libraries\" data-toc-modified-id=\"Import-Libraries-5\">Import Libraries</a></span></li><li><span><a href=\"#API-(Application-Programming-Interface)\" data-toc-modified-id=\"API-(Application-Programming-Interface)-6\">API (Application Programming Interface)</a></span><ul class=\"toc-item\"><li><ul class=\"toc-item\"><li><ul class=\"toc-item\"><li><span><a href=\"#Application-Programming-Interface,-another-defination.\" data-toc-modified-id=\"Application-Programming-Interface,-another-defination.-6.0.0.1\">Application Programming Interface, another defination.</a></span></li><li><span><a href=\"#We'll-mostly-be-using-API's-in-the-context-of-data-and/or-data-services\" data-toc-modified-id=\"We'll-mostly-be-using-API's-in-the-context-of-data-and/or-data-services-6.0.0.2\">We'll mostly be using API's in the context of data and/or data services</a></span></li></ul></li></ul></li></ul></li><li><span><a href=\"#US-Census-API\" data-toc-modified-id=\"US-Census-API-7\">US Census API</a></span></li><li><span><a href=\"#JSON-(JavaScript-Object-Notation)\" data-toc-modified-id=\"JSON-(JavaScript-Object-Notation)-8\">JSON (JavaScript Object Notation)</a></span><ul class=\"toc-item\"><li><ul class=\"toc-item\"><li><span><a href=\"#JSON-as-the-data-language-of-the-web\" data-toc-modified-id=\"JSON-as-the-data-language-of-the-web-8.0.1\">JSON as the data language of the web</a></span></li><li><span><a href=\"#API-Tools\" data-toc-modified-id=\"API-Tools-8.0.2\">API Tools</a></span></li></ul></li></ul></li><li><span><a href=\"#Anatomy-of-an-API-request:\" data-toc-modified-id=\"Anatomy-of-an-API-request:-9\">Anatomy of an API request:</a></span><ul class=\"toc-item\"><li><ul class=\"toc-item\"><li><ul class=\"toc-item\"><li><span><a href=\"#QUERY\" data-toc-modified-id=\"QUERY-9.0.0.1\">QUERY</a></span></li></ul></li><li><span><a href=\"#Let's-visit-this-url\" data-toc-modified-id=\"Let's-visit-this-url-9.0.1\">Let's visit this url</a></span></li><li><span><a href=\"#Let's-identify-what's-in-the-response\" data-toc-modified-id=\"Let's-identify-what's-in-the-response-9.0.2\">Let's identify what's in the response</a></span></li><li><span><a href=\"#Note-on-using-other-APIs\" data-toc-modified-id=\"Note-on-using-other-APIs-9.0.3\">Note on using other APIs</a></span></li></ul></li><li><span><a href=\"#US-Census-American-Community-Survey-(ACS)-Variables\" data-toc-modified-id=\"US-Census-American-Community-Survey-(ACS)-Variables-9.1\">US Census American Community Survey (ACS) Variables</a></span><ul class=\"toc-item\"><li><ul class=\"toc-item\"><li><span><a href=\"#Now-let's-render-the-response-in-a-cell.\" data-toc-modified-id=\"Now-let's-render-the-response-in-a-cell.-9.1.0.1\">Now let's render the response in a cell.</a></span></li><li><span><a href=\"#Let's-import-requests-and-json-to-get-the-url-data-and-then-parse-into-a-.json-response\" data-toc-modified-id=\"Let's-import-requests-and-json-to-get-the-url-data-and-then-parse-into-a-.json-response-9.1.0.2\">Let's import requests and json to get the url data and then parse into a <code>.json</code> response</a></span></li><li><span><a href=\"#Use-requests-to-get-the-url\" data-toc-modified-id=\"Use-requests-to-get-the-url-9.1.0.3\">Use <strong>requests</strong> to get the <code>url</code></a></span></li><li><span><a href=\"#And-then-let's-load-as-.json\" data-toc-modified-id=\"And-then-let's-load-as-.json-9.1.0.4\">And then let's load as <code>.json</code></a></span></li><li><span><a href=\"#Show-the-json_data-object\" data-toc-modified-id=\"Show-the-json_data-object-9.1.0.5\">Show the <code>json_data</code> object</a></span></li><li><span><a href=\"#Census-API-response-is-really-just-a-list.-Many-time's-you'll-see-it-as-more-structured-Dictionary.\" data-toc-modified-id=\"Census-API-response-is-really-just-a-list.-Many-time's-you'll-see-it-as-more-structured-Dictionary.-9.1.0.6\">Census API response is really just a list. Many time's you'll see it as more structured Dictionary.</a></span></li><li><span><a href=\"#Let's-now-convert-into-a-usable-DataFrame\" data-toc-modified-id=\"Let's-now-convert-into-a-usable-DataFrame-9.1.0.7\">Let's now convert into a usable DataFrame</a></span></li><li><span><a href=\"#Something-is-wrong...-with-our-first-row.\" data-toc-modified-id=\"Something-is-wrong...-with-our-first-row.-9.1.0.8\">Something is wrong... with our first row.</a></span></li><li><span><a href=\"#Let's-use-our-first-row-as-our-DataFrame-header\" data-toc-modified-id=\"Let's-use-our-first-row-as-our-DataFrame-header-9.1.0.9\">Let's use our first row as our DataFrame header</a></span></li><li><span><a href=\"#Let's-create-a-unique-GEOID-and-save-this-data-frame\" data-toc-modified-id=\"Let's-create-a-unique-GEOID-and-save-this-data-frame-9.1.0.10\">Let's create a unique GEOID and save this data frame</a></span></li></ul></li></ul></li></ul></li><li><span><a href=\"#Python-census-library.\" data-toc-modified-id=\"Python-census-library.-10\">Python census library.</a></span><ul class=\"toc-item\"><li><ul class=\"toc-item\"><li><span><a href=\"#census\" data-toc-modified-id=\"census-10.0.1\">census</a></span></li></ul></li><li><span><a href=\"#You've-actually-been-using-APIs-the-whole-class.\" data-toc-modified-id=\"You've-actually-been-using-APIs-the-whole-class.-10.1\">You've actually been using APIs the whole class.</a></span></li></ul></li><li><span><a href=\"#Activity-01-(Assignment-05)-GitHub-Pull-Request(s)-Review-and-In-Class-Demo\" data-toc-modified-id=\"Activity-01-(Assignment-05)-GitHub-Pull-Request(s)-Review-and-In-Class-Demo-11\">Activity 01 (Assignment 05) GitHub Pull Request(s) Review and In-Class Demo</a></span></li><li><span><a href=\"#Gitignore-Review\" data-toc-modified-id=\"Gitignore-Review-12\">Gitignore Review</a></span><ul class=\"toc-item\"><li><ul class=\"toc-item\"><li><ul class=\"toc-item\"><li><span><a href=\"#Useful-.gitignore-file-links\" data-toc-modified-id=\"Useful-.gitignore-file-links-12.0.0.1\">Useful <code>.gitignore</code> file links</a></span></li></ul></li></ul></li></ul></li><li><span><a href=\"#Python-Mapping-Cont'd\" data-toc-modified-id=\"Python-Mapping-Cont'd-13\">Python Mapping Cont'd</a></span><ul class=\"toc-item\"><li><ul class=\"toc-item\"><li><ul class=\"toc-item\"><li><span><a href=\"#Let's-import-NYC-NTA-Boundaries-and-generate-a-GeoDataFrame\" data-toc-modified-id=\"Let's-import-NYC-NTA-Boundaries-and-generate-a-GeoDataFrame-13.0.0.1\">Let's import NYC NTA Boundaries and generate a GeoDataFrame</a></span></li></ul></li></ul></li></ul></li><li><span><a href=\"#Pickup-Here-from-last-Monday\" data-toc-modified-id=\"Pickup-Here-from-last-Monday-14\">Pickup Here from last Monday</a></span><ul class=\"toc-item\"><li><span><a href=\"#Legend\" data-toc-modified-id=\"Legend-14.1\">Legend</a></span></li><li><span><a href=\"#Annotate-Data-Source\" data-toc-modified-id=\"Annotate-Data-Source-14.2\">Annotate Data Source</a></span><ul class=\"toc-item\"><li><ul class=\"toc-item\"><li><span><a href=\"#More-on-annotation:-https://jakevdp.github.io/PythonDataScienceHandbook/04.09-text-and-annotation.html\" data-toc-modified-id=\"More-on-annotation:-https://jakevdp.github.io/PythonDataScienceHandbook/04.09-text-and-annotation.html-14.2.0.1\">More on annotation: <a href=\"https://jakevdp.github.io/PythonDataScienceHandbook/04.09-text-and-annotation.html\" target=\"_blank\">https://jakevdp.github.io/PythonDataScienceHandbook/04.09-text-and-annotation.html</a></a></span></li></ul></li></ul></li><li><span><a href=\"#Turn-off-the-axis-and-neatline\" data-toc-modified-id=\"Turn-off-the-axis-and-neatline-14.3\">Turn off the axis and neatline</a></span></li></ul></li><li><span><a href=\"#Basemaps-with-Contextily\" data-toc-modified-id=\"Basemaps-with-Contextily-15\">Basemaps with Contextily</a></span><ul class=\"toc-item\"><li><ul class=\"toc-item\"><li><ul class=\"toc-item\"><li><span><a href=\"#Change-the-Basemap\" data-toc-modified-id=\"Change-the-Basemap-15.0.0.1\">Change the Basemap</a></span></li><li><span><a href=\"#Carto-Basemaps---Positron-Light\" data-toc-modified-id=\"Carto-Basemaps---Positron-Light-15.0.0.2\">Carto Basemaps - Positron Light</a></span></li><li><span><a href=\"#Carto-Positron-Dark---No-Labels\" data-toc-modified-id=\"Carto-Positron-Dark---No-Labels-15.0.0.3\">Carto Positron Dark - No Labels</a></span></li><li><span><a href=\"#More-Carto-(CartoDB)-Basemaps\" data-toc-modified-id=\"More-Carto-(CartoDB)-Basemaps-15.0.0.4\">More Carto (CartoDB) Basemaps</a></span></li><li><span><a href=\"#More-Contextily-Basemaps\" data-toc-modified-id=\"More-Contextily-Basemaps-15.0.0.5\">More Contextily Basemaps</a></span></li></ul></li></ul></li><li><span><a href=\"#Join-our-NTA-data-to-some-Demographic-Data\" data-toc-modified-id=\"Join-our-NTA-data-to-some-Demographic-Data-15.1\">Join our NTA data to some Demographic Data</a></span><ul class=\"toc-item\"><li><ul class=\"toc-item\"><li><span><a href=\"#Read-in-Demographic-Population-Data-2000-2010-from-NYC-DCP\" data-toc-modified-id=\"Read-in-Demographic-Population-Data-2000-2010-from-NYC-DCP-15.1.0.1\">Read in Demographic Population Data 2000-2010 from NYC DCP</a></span></li><li><span><a href=\"#Shape-of-the-data\" data-toc-modified-id=\"Shape-of-the-data-15.1.0.2\">Shape of the data</a></span></li><li><span><a href=\"#List-the-columns\" data-toc-modified-id=\"List-the-columns-15.1.0.3\">List the columns</a></span></li><li><span><a href=\"#Let's-merge-our-datasets\" data-toc-modified-id=\"Let's-merge-our-datasets-15.1.0.4\">Let's merge our datasets</a></span></li><li><span><a href=\"#Describe-our-data\" data-toc-modified-id=\"Describe-our-data-15.1.0.5\">Describe our data</a></span></li><li><span><a href=\"#Plot\" data-toc-modified-id=\"Plot-15.1.0.6\">Plot</a></span></li></ul></li></ul></li></ul></li></ul></div>"
   ]
  },
  {
   "cell_type": "markdown",
   "metadata": {},
   "source": [
    "# Learning Objectives\n",
    "\n",
    "\n",
    "* Additional Mapping Functionality with Matplotlib\n",
    "* APIs (Application Programming Interface)\n",
    "* JSON (JavaScript Object Notation) \n",
    "\n",
    "\n",
    "### Fork and Clone this Lesson Repo\n",
    "\n",
    "https://github.com/pratt-savi-810/pratt-savi-810-2020-03-lesson_12\n",
    "\n",
    "\n"
   ]
  },
  {
   "cell_type": "markdown",
   "metadata": {},
   "source": [
    "# Import Libraries\n",
    "\n",
    "Let's `import` some of the libraries we've already used. "
   ]
  },
  {
   "cell_type": "code",
   "execution_count": null,
   "metadata": {},
   "outputs": [],
   "source": [
    "import os\n",
    "import sys\n",
    "module_path = os.path.abspath(os.path.join('..'))\n",
    "if module_path not in sys.path:\n",
    "    sys.path.append(module_path)\n",
    "    \n",
    "\n",
    "from IPython.display import IFrame\n",
    "import pandas as pd\n",
    "import geopandas as gpd\n",
    "import matplotlib.pyplot as plt\n",
    "import numpy as np\n",
    "import missingno as msno\n",
    "import seaborn as sns\n",
    "import matplotlib.patches as patches\n",
    "import warnings\n",
    "import networkx as nx\n",
    "import osmnx as ox\n",
    "import requests\n",
    "import matplotlib.cm as cm\n",
    "import matplotlib.colors as colors\n",
    "ox.config(use_cache=True, log_console=True)\n",
    "warnings.filterwarnings('ignore')\n",
    "warnings.simplefilter('ignore')\n",
    "from IPython.display import IFrame\n",
    "\n",
    "\n",
    "%matplotlib inline\n",
    "%load_ext autoreload\n",
    "%autoreload 2\n",
    "\n",
    "# IFrame(src='https://commons.pratt.edu/savi/', width=700, height=400)"
   ]
  },
  {
   "cell_type": "markdown",
   "metadata": {},
   "source": [
    "# API (Application Programming Interface)\n",
    "\n",
    "> An application programming interface (API) is a **computing interface** to a software component or a system, that defines how other components or systems can use it. It **defines the kinds of calls or requests that can be made**, **how to make them**, the data formats that should be used, the conventions to follow, etc. Source: https://en.wikipedia.org/wiki/Application_programming_interface\n",
    "\n",
    "\n",
    "#### Application Programming Interface, another defination.\n",
    "\n",
    "\n",
    " > An Application Programming Interface (API) is a **tool set** that programmers can **use in helping them create software**. A good API will have clear and concise commands that a programmer can use and reuse, so they **don't have to build everything over again**.  Source: https://study.com/academy/lesson/application-programming-interface-api-definition-example.html\n",
    " \n",
    "#### We'll mostly be using API's in the context of data and/or data services\n",
    "\n",
    "##### Data\n",
    "We may use an API to get data back as a response from an API. \n",
    "\n",
    "* We'll go over an example using the [US Census API](https://www.census.gov/developers/) in a bit. \n",
    "\n",
    "##### Data Services\n",
    "We may also call an API to get some processed data back.\n",
    "\n",
    "Examples may include;\n",
    "* Geocoding\n",
    "* Routing\n",
    "* etc. "
   ]
  },
  {
   "cell_type": "markdown",
   "metadata": {},
   "source": [
    "# US Census API\n",
    "\n",
    "The [US Census Bureau](https://www.census.gov/) has [Census API Services](https://www.census.gov/developers/) for many datasets now. So you can access data from the American Community Survey (5-year rolling sample) as well as the Decennial Census (10-year single snapshot). \n",
    "\n",
    "\n",
    "[![census_api_homepage](https://raw.githubusercontent.com/pratt-savi-810/images/master/census_api_homepage.png)](https://www.census.gov/developers/)\n",
    "\n",
    "# JSON (JavaScript Object Notation) \n",
    "\n",
    "> JSON (JavaScript Object Notation) is a **lightweight data-interchange format**. It is **easy for humans** to read and write. It is easy for machines to parse and generate. It is based on a subset of the JavaScript Programming Language Standard ECMA-262 3rd Edition - December 1999. JSON is a text format that is completely language independent but uses conventions that are familiar to programmers of the C-family of languages, including C, C++, C#, Java, JavaScript, Perl, Python, and many others. These properties make JSON an ideal data-interchange language. Source: https://www.json.org/\n",
    "\n",
    "### JSON as the data language of the web\n",
    "\n",
    "You'll come across JSON in most API's. We've worked with GeoJSON, which is simply a standard of JSON for geospatial data.\n",
    "\n",
    "### API Tools\n",
    "\n",
    "I use a Google Chrome extension **[JSON Viewer]**(https://chrome.google.com/webstore/detail/json-viewer/gbmdgpbipfallnflgajpaliibnhdgobh?hl=en-US) to render JSON responses. There are many others, as you'll find reading JSON in the browser is sometimes difficult without it being prettified with whitespace. \n",
    "\n",
    "![json_viewer_logo](https://lh3.googleusercontent.com/x7YGHWMY36YeH9DZi-gprlIS5kKcA9ht4c7mH1SaXySCx2TJAH6wGK0rFyuj7WuaVIuRbMn74Q=w128-h128-e365) \n",
    "\n",
    "[**Postman**](https://www.postman.com/) is also a great, more professional free tool for viewing API requests. \n",
    "\n",
    "![postman_screenshot](https://d2ijz6o5xay1xq.cloudfront.net/account_1944/postman-screen_c19b98186c029cbac20ae221fb1f3392_800.png)\n"
   ]
  },
  {
   "cell_type": "markdown",
   "metadata": {},
   "source": [
    "# Anatomy of an API request:\n",
    "\n",
    "Let's use the following url example for the US Census API:\n",
    "\n",
    "```\n",
    "https://api.census.gov/data/2018/acs/acs5?get=B01003_001E&for=tract:*&in=state:36&in=county:061\n",
    "```\n",
    "\n",
    "Let's break it apart:\n",
    "\n",
    "* url   - ```https://api.census.gov/data/2018/acs/acs5```\n",
    "* query - ```?get=B01003_001E&for=tract:*&in=state:36&in=county:061```\n",
    "\n",
    "##### URL \n",
    "\n",
    "For this ```https://api.census.gov/data/2018/acs/acs5``` url we have the https web address as well as the **Census ACS** (American Community Survey) **vintage**, in this case **2018** (2014-2018) and we're using the **5-year** rolling version, hence **acs5**. \n",
    "\n",
    "#### QUERY\n",
    "For our query ```?get=B01003_001E&for=tract:*&in=state:36&in=county:061``` we have several components, let's break \n",
    "\n",
    "* ```?``` \n",
    "  * Denotes beginning of query\n",
    "  \n",
    "* ```get=B01003_001E```\n",
    "  * We want the variable ```B01003_001E``` Total Population estimate for given Geography\n",
    "\n",
    "* ```&for=tract``` \n",
    "  * We want Census Tract as our analytical unit of Geography. \n",
    "  \n",
    "* ```:*&in=state:36```\n",
    "  * For a given state, in this case FIPS, GEOID 36 for New York State. \n",
    "\n",
    "* ```&in=county:061```\n",
    "  * For a given county, in this case FIPS, GEOID 061 (36061) for New York County in New York State. \n",
    "\n",
    "\n",
    "### Let's visit this url \n",
    "\n",
    "_Note this uses different variable than our above and below example._\n",
    "\n",
    "![census_response](https://raw.githubusercontent.com/pratt-savi-810/images/master/census_api_response_browser.png)\n",
    "\n",
    "\n",
    "### Let's identify what's in the response\n",
    "\n",
    "\n",
    "![census_response](https://raw.githubusercontent.com/pratt-savi-810/images/master/census_api_response_browser_markup.png)\n",
    "\n",
    "\n",
    "\n",
    "### Note on using other APIs\n",
    "Other APIs will have their own conventions. You'll likely **need to go through documentation and guides** to use. This can and will be time-consuming. Not all APIs are easy-to-use and like Python libraries **some have better documentation than others**. \n",
    "\n",
    "https://raw.githubusercontent.com/pratt-savi-810/images/master/census_api_response_browser.png"
   ]
  },
  {
   "cell_type": "markdown",
   "metadata": {},
   "source": [
    "## US Census American Community Survey (ACS) Variables\n",
    "\n",
    "Website of [US Census American Community Survey (ACS) Variables](https://api.census.gov/data/2016/acs/acs1/variables.html)."
   ]
  },
  {
   "cell_type": "markdown",
   "metadata": {},
   "source": [
    "#### Now let's render the response in a cell. "
   ]
  },
  {
   "cell_type": "code",
   "execution_count": null,
   "metadata": {},
   "outputs": [],
   "source": [
    "url = 'https://api.census.gov/data/2018/acs/acs5?get=B01003_001E&for=tract:*&in=state:36&in=county:061'"
   ]
  },
  {
   "cell_type": "code",
   "execution_count": null,
   "metadata": {},
   "outputs": [],
   "source": [
    "IFrame(src=url, width=700, height=400)"
   ]
  },
  {
   "cell_type": "markdown",
   "metadata": {},
   "source": [
    "#### Let's import requests and json to get the url data and then parse into a `.json` response"
   ]
  },
  {
   "cell_type": "code",
   "execution_count": null,
   "metadata": {},
   "outputs": [],
   "source": []
  },
  {
   "cell_type": "markdown",
   "metadata": {},
   "source": [
    "#### Use **requests** to get the `url` "
   ]
  },
  {
   "cell_type": "code",
   "execution_count": null,
   "metadata": {},
   "outputs": [],
   "source": []
  },
  {
   "cell_type": "markdown",
   "metadata": {},
   "source": [
    "#### And then let's load as `.json`"
   ]
  },
  {
   "cell_type": "code",
   "execution_count": null,
   "metadata": {},
   "outputs": [],
   "source": []
  },
  {
   "cell_type": "markdown",
   "metadata": {},
   "source": [
    "#### Show the `json_data` object"
   ]
  },
  {
   "cell_type": "code",
   "execution_count": null,
   "metadata": {},
   "outputs": [],
   "source": []
  },
  {
   "cell_type": "markdown",
   "metadata": {},
   "source": [
    "#### Census API response is really just a list. Many time's you'll see it as more structured Dictionary. "
   ]
  },
  {
   "cell_type": "code",
   "execution_count": null,
   "metadata": {},
   "outputs": [],
   "source": []
  },
  {
   "cell_type": "code",
   "execution_count": null,
   "metadata": {},
   "outputs": [],
   "source": []
  },
  {
   "cell_type": "markdown",
   "metadata": {},
   "source": [
    "#### Let's now convert into a usable DataFrame"
   ]
  },
  {
   "cell_type": "code",
   "execution_count": null,
   "metadata": {},
   "outputs": [],
   "source": []
  },
  {
   "cell_type": "markdown",
   "metadata": {},
   "source": [
    "#### Something is wrong... with our first row. "
   ]
  },
  {
   "cell_type": "markdown",
   "metadata": {},
   "source": [
    "#### Let's use our first row as our DataFrame header"
   ]
  },
  {
   "cell_type": "code",
   "execution_count": null,
   "metadata": {},
   "outputs": [],
   "source": []
  },
  {
   "cell_type": "markdown",
   "metadata": {},
   "source": [
    "#### Let's create a unique GEOID and save this data frame"
   ]
  },
  {
   "cell_type": "code",
   "execution_count": null,
   "metadata": {},
   "outputs": [],
   "source": []
  },
  {
   "cell_type": "code",
   "execution_count": null,
   "metadata": {},
   "outputs": [],
   "source": []
  },
  {
   "cell_type": "markdown",
   "metadata": {},
   "source": [
    "# Python census library.\n",
    "\n",
    "### census\n",
    "\n",
    "> A simple wrapper for the United States Census Bureau's API. Provides access to ACS, SF1, and SF3 data sets. Source: https://github.com/datamade/census\n",
    "\n",
    "```pip install census```\n",
    "\n",
    "This library hides much of the stuff we need to do with the API, yet is built using the API. \n",
    "\n",
    "```python\n",
    "\n",
    "from census import Census\n",
    "import pandas as pd\n",
    "\n",
    "\n",
    "def get_census_tract_acs_data_for_state(\n",
    "        api_key,\n",
    "        acs_field_name,\n",
    "        state_fips,\n",
    "):\n",
    "    c = Census(api_key)\n",
    "    df = pd.DataFrame(\n",
    "        c.acs5.state_county_tract(\n",
    "            acs_field_name,\n",
    "            state_fips,\n",
    "            '*',\n",
    "            '*',\n",
    "        )\n",
    "    )\n",
    "    df['GEOID'] = df['state'].astype(str) + \\\n",
    "        df['county'].astype(str) + \\\n",
    "        df['tract'].astype(str)\n",
    "\n",
    "    return df\n",
    "\n",
    "```\n",
    "\n",
    "## You've actually been using APIs the whole class. \n",
    "\n",
    "![nyc_open_data_api](https://raw.githubusercontent.com/pratt-savi-810/images/master/nyc_open_data_api.png)\n"
   ]
  },
  {
   "cell_type": "markdown",
   "metadata": {},
   "source": [
    "# Activity 01 (Assignment 05) GitHub Pull Request(s) Review and In-Class Demo\n",
    "\n",
    "\n",
    "\n"
   ]
  },
  {
   "cell_type": "markdown",
   "metadata": {},
   "source": [
    "# Gitignore Review\n",
    "\n",
    "> A gitignore file specifies intentionally untracked files that Git should ignore. Files already tracked by Git are not affected... Each line in a gitignore file specifies a pattern. Source: https://git-scm.com/docs/gitignore\n",
    "\n",
    "![gitignore](https://i.stack.imgur.com/coZgL.png)\n",
    "_Source: [https://stackoverflow.com/questions/29618048/file-shows-up-in-the-list-of-files-to-commit-in-github-for-windows-whereas-it-is](https://stackoverflow.com/questions/29618048/file-shows-up-in-the-list-of-files-to-commit-in-github-for-windows-whereas-it-is)_\n",
    "\n",
    "#### Useful `.gitignore` file links\n",
    "* https://git-scm.com/docs/gitignore\n",
    "* https://help.github.com/en/github/using-git/ignoring-files"
   ]
  },
  {
   "cell_type": "code",
   "execution_count": null,
   "metadata": {},
   "outputs": [],
   "source": []
  },
  {
   "cell_type": "markdown",
   "metadata": {},
   "source": [
    "# Python Mapping Cont'd"
   ]
  },
  {
   "cell_type": "markdown",
   "metadata": {},
   "source": [
    "#### Let's import NYC NTA Boundaries and generate a GeoDataFrame"
   ]
  },
  {
   "cell_type": "code",
   "execution_count": null,
   "metadata": {},
   "outputs": [],
   "source": [
    "nyc_nta_geojson = 'https://data.cityofnewyork.us/api/geospatial/cpf4-rkhq?method=export&format=GeoJSON'\n",
    "\n",
    "nta_gdf = gpd.read_file(nyc_nta_geojson)\n",
    "nta_gdf.to_crs(epsg=2263, inplace=True)"
   ]
  },
  {
   "cell_type": "markdown",
   "metadata": {},
   "source": [
    "# Pickup Here from last Monday\n",
    "\n",
    "## Legend\n",
    "\n",
    "PyPlot Legends : https://matplotlib.org/3.2.1/api/_as_gen/matplotlib.pyplot.legend.html\n"
   ]
  },
  {
   "cell_type": "code",
   "execution_count": null,
   "metadata": {},
   "outputs": [],
   "source": [
    "fig, ax = plt.subplots(figsize=(14, 10))\n",
    "\n",
    "### code here\n",
    "\n",
    "ax.set_title('Map Title', fontdict={'size': 30});"
   ]
  },
  {
   "cell_type": "markdown",
   "metadata": {},
   "source": [
    "## Annotate Data Source\n"
   ]
  },
  {
   "cell_type": "code",
   "execution_count": null,
   "metadata": {},
   "outputs": [],
   "source": [
    "fig, ax = plt.subplots(figsize=(14, 10))\n",
    "\n",
    "nta_gdf.plot(\n",
    "    ax=ax, \n",
    "    column='boro_name', \n",
    "    legend=True, \n",
    "    cmap='Dark2', \n",
    "    legend_kwds={\n",
    "        'loc': 2,\n",
    "        'shadow': True,\n",
    "        # 'facecolor': 'lightgray',\n",
    "    })\n",
    "\n",
    "### code here\n",
    "\n",
    "ax.set_title('Map Title', fontdict={'size': 30});"
   ]
  },
  {
   "cell_type": "markdown",
   "metadata": {},
   "source": [
    "#### More on annotation: https://jakevdp.github.io/PythonDataScienceHandbook/04.09-text-and-annotation.html"
   ]
  },
  {
   "cell_type": "markdown",
   "metadata": {},
   "source": [
    "## Turn off the axis and neatline "
   ]
  },
  {
   "cell_type": "code",
   "execution_count": null,
   "metadata": {},
   "outputs": [],
   "source": [
    "fig, ax = plt.subplots(figsize=(14, 10))\n",
    "\n",
    "nta_gdf.plot(\n",
    "    ax=ax, \n",
    "    column='boro_name', \n",
    "    legend=True, \n",
    "    cmap='Dark2', \n",
    "    legend_kwds={\n",
    "        'loc': 2,\n",
    "        'shadow': True,\n",
    "        # 'facecolor': 'lightgray',\n",
    "    })\n",
    "\n",
    "ax.annotate(\n",
    "    'Source: NYC Open Data', \n",
    "    xy=(10, 10),  # points from lower left\n",
    "    xycoords='axes points',  # select where \n",
    "    size=10, \n",
    ")\n",
    "\n",
    "\n",
    "### code here\n",
    "\n",
    "\n",
    "ax.set_title('New York City Boroughs', fontdict={'size': 30});"
   ]
  },
  {
   "cell_type": "code",
   "execution_count": null,
   "metadata": {},
   "outputs": [],
   "source": [
    "fig, ax = plt.subplots(figsize=(14, 10))\n",
    "\n",
    "nta_gdf.plot(\n",
    "    ax=ax, \n",
    "    column='boro_name', \n",
    "    legend=True, \n",
    "    cmap='Dark2', \n",
    "    legend_kwds={\n",
    "        'loc': 2,\n",
    "        'shadow': True,\n",
    "        # 'facecolor': 'lightgray',\n",
    "    })\n",
    "\n",
    "ax.annotate(\n",
    "    'Source: NYC Open Data', \n",
    "    xy=(10, 10),  # points from lower left\n",
    "    xycoords='axes points',  # select where \n",
    "    size=10, \n",
    ")\n",
    "\n",
    "### code here\n",
    "\n",
    "\n",
    "ax.set_title('New York City Boroughs', fontdict={'size': 30});"
   ]
  },
  {
   "cell_type": "markdown",
   "metadata": {},
   "source": [
    "# Basemaps with Contextily\n",
    "\n",
    "> contextily is a small Python 3 package to retrieve and write to disk tile maps from the internet into geospatial raster files. Bounding boxes can be passed in both WGS84 (EPSG:4326) and Spheric Mercator (EPSG:3857). See the notebook contextily_guide.ipynb for usage. Source: https://github.com/darribas/contextily"
   ]
  },
  {
   "cell_type": "code",
   "execution_count": null,
   "metadata": {},
   "outputs": [],
   "source": [
    "import contextily as ctx"
   ]
  },
  {
   "cell_type": "code",
   "execution_count": null,
   "metadata": {},
   "outputs": [],
   "source": [
    "fig, ax = plt.subplots(figsize=(14, 14))\n",
    "\n",
    "nta_gdf.to_crs(epsg=3857).plot(\n",
    "    ax=ax, \n",
    "    column='boro_name', \n",
    "    legend=True, \n",
    "    cmap='Dark2', \n",
    "    alpha=0.7,\n",
    "    legend_kwds={\n",
    "        'loc': 2,\n",
    "        'shadow': True,\n",
    "    })\n",
    "\n",
    "\n",
    "### code here\n",
    "\n",
    "\n",
    "ax.axis('off')\n",
    "\n",
    "ax.set_title('New York City Boroughs', fontdict={'size': 20});"
   ]
  },
  {
   "cell_type": "markdown",
   "metadata": {},
   "source": [
    "#### Change the Basemap"
   ]
  },
  {
   "cell_type": "code",
   "execution_count": null,
   "metadata": {},
   "outputs": [],
   "source": [
    "fig, ax = plt.subplots(figsize=(14, 14))\n",
    "\n",
    "nta_gdf.to_crs(epsg=3857).plot(\n",
    "    ax=ax, \n",
    "    column='boro_name', \n",
    "    legend=True, \n",
    "    cmap='Dark2', \n",
    "    alpha=0.7,\n",
    "    legend_kwds={\n",
    "        'loc': 2,\n",
    "        'shadow': True,\n",
    "    })\n",
    "\n",
    "### code here\n",
    "\n",
    "ax.axis('off')\n",
    "\n",
    "ax.set_title('New York City Boroughs', fontdict={'size': 20});"
   ]
  },
  {
   "cell_type": "markdown",
   "metadata": {},
   "source": [
    "#### Carto Basemaps - Positron Light"
   ]
  },
  {
   "cell_type": "code",
   "execution_count": null,
   "metadata": {},
   "outputs": [],
   "source": [
    "fig, ax = plt.subplots(figsize=(14, 14))\n",
    "\n",
    "nta_gdf.to_crs(epsg=3857).plot(\n",
    "    ax=ax, \n",
    "    column='boro_name', \n",
    "    legend=True, \n",
    "    cmap='Dark2', \n",
    "    alpha=0.7,\n",
    "    legend_kwds={\n",
    "        'loc': 2,\n",
    "        'shadow': True,\n",
    "    })\n",
    "\n",
    "### code here\n",
    "\n",
    "ax.axis('off')\n",
    "\n",
    "ax.set_title('New York City Boroughs', fontdict={'size': 20});"
   ]
  },
  {
   "cell_type": "markdown",
   "metadata": {},
   "source": [
    "#### Carto Positron Dark - No Labels"
   ]
  },
  {
   "cell_type": "code",
   "execution_count": null,
   "metadata": {},
   "outputs": [],
   "source": [
    "fig, ax = plt.subplots(figsize=(14, 14))\n",
    "\n",
    "nta_gdf.to_crs(epsg=3857).plot(\n",
    "    ax=ax, \n",
    "    column='boro_name', \n",
    "    legend=True, \n",
    "    cmap='Dark2', \n",
    "    alpha=0.7,\n",
    "    legend_kwds={\n",
    "        'loc': 2,\n",
    "        'shadow': True,\n",
    "    })\n",
    "\n",
    "### code here\n",
    "\n",
    "ax.axis('off')\n",
    "\n",
    "ax.set_title('New York City Boroughs', fontdict={'size': 20});"
   ]
  },
  {
   "cell_type": "markdown",
   "metadata": {},
   "source": [
    "#### More Carto (CartoDB) Basemaps\n",
    "\n",
    "https://github.com/CartoDB/basemap-styles\n",
    "\n",
    "\n",
    "#### More Contextily Basemaps\n",
    "\n",
    "https://github.com/darribas/contextily/blob/master/contextily/tile_providers.py"
   ]
  },
  {
   "cell_type": "markdown",
   "metadata": {},
   "source": [
    "## Join our NTA data to some Demographic Data"
   ]
  },
  {
   "cell_type": "code",
   "execution_count": null,
   "metadata": {},
   "outputs": [],
   "source": []
  },
  {
   "cell_type": "markdown",
   "metadata": {},
   "source": [
    "#### Read in Demographic Population Data 2000-2010 from NYC DCP "
   ]
  },
  {
   "cell_type": "code",
   "execution_count": null,
   "metadata": {},
   "outputs": [],
   "source": [
    "\n"
   ]
  },
  {
   "cell_type": "markdown",
   "metadata": {},
   "source": [
    "#### Shape of the data"
   ]
  },
  {
   "cell_type": "code",
   "execution_count": null,
   "metadata": {},
   "outputs": [],
   "source": []
  },
  {
   "cell_type": "markdown",
   "metadata": {},
   "source": [
    "#### List the columns"
   ]
  },
  {
   "cell_type": "code",
   "execution_count": null,
   "metadata": {},
   "outputs": [],
   "source": []
  },
  {
   "cell_type": "markdown",
   "metadata": {},
   "source": [
    "#### Let's merge our datasets"
   ]
  },
  {
   "cell_type": "code",
   "execution_count": null,
   "metadata": {},
   "outputs": [],
   "source": []
  },
  {
   "cell_type": "markdown",
   "metadata": {},
   "source": [
    "#### Describe our data"
   ]
  },
  {
   "cell_type": "code",
   "execution_count": null,
   "metadata": {},
   "outputs": [],
   "source": []
  },
  {
   "cell_type": "markdown",
   "metadata": {},
   "source": [
    "#### Plot"
   ]
  },
  {
   "cell_type": "code",
   "execution_count": null,
   "metadata": {},
   "outputs": [],
   "source": []
  },
  {
   "cell_type": "code",
   "execution_count": null,
   "metadata": {},
   "outputs": [],
   "source": []
  },
  {
   "cell_type": "code",
   "execution_count": null,
   "metadata": {},
   "outputs": [],
   "source": []
  },
  {
   "cell_type": "markdown",
   "metadata": {},
   "source": []
  },
  {
   "cell_type": "code",
   "execution_count": null,
   "metadata": {},
   "outputs": [],
   "source": []
  },
  {
   "cell_type": "code",
   "execution_count": null,
   "metadata": {},
   "outputs": [],
   "source": []
  }
 ],
 "metadata": {
  "kernelspec": {
   "display_name": "Python 3",
   "language": "python",
   "name": "python3"
  },
  "language_info": {
   "codemirror_mode": {
    "name": "ipython",
    "version": 3
   },
   "file_extension": ".py",
   "mimetype": "text/x-python",
   "name": "python",
   "nbconvert_exporter": "python",
   "pygments_lexer": "ipython3",
   "version": "3.6.10"
  },
  "toc": {
   "base_numbering": 1,
   "nav_menu": {},
   "number_sections": false,
   "sideBar": true,
   "skip_h1_title": false,
   "title_cell": "Table of Contents",
   "title_sidebar": "Contents",
   "toc_cell": true,
   "toc_position": {
    "height": "856.364px",
    "left": "34px",
    "top": "110.284px",
    "width": "177.833px"
   },
   "toc_section_display": true,
   "toc_window_display": false
  }
 },
 "nbformat": 4,
 "nbformat_minor": 2
}
